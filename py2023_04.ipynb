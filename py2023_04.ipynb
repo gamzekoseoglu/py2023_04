import pandas as pd
from sklearn.model_selection import train_test_split
from sklearn.feature_extraction.text import TfidfVectorizer
from sklearn.svm import SVC
from sklearn.metrics import accuracy_score

# Veri setini yükleme
veri = pd.read_csv('/content/yeni_veri_seti.csv')  # Veri setinin yolunu ve adını düzeltin

# Giriş (X) ve çıkış (y) verilerini tanımlama
X = veri['content']
y = veri['category']

# Verileri eğitim ve test setlerine bölmek
X_train, X_test, y_train, y_test = train_test_split(X, y, test_size=0.2, random_state=42)

# Metin verilerini sayısal vektörlere dönüştürme
tfidf_vectorizer = TfidfVectorizer(max_features=5000)  # Özellik çıkarma için TF-IDF kullanma
X_train_tfidf = tfidf_vectorizer.fit_transform(X_train)
X_test_tfidf = tfidf_vectorizer.transform(X_test)

# Model oluşturma ve eğitme (örneğin, Destek Vektör Makineleri - SVC)
model = SVC(kernel='linear')
model.fit(X_train_tfidf, y_train)

# Modelin performansını değerlendirme
y_pred = model.predict(X_test_tfidf)
accuracy = accuracy_score(y_test, y_pred)
print(f"Model Doğruluğu: {accuracy}")





def kategori_tahmini(metin):
    metin_tfidf = tfidf_vectorizer.transform([metin])
    tahmin = model.predict(metin_tfidf)
    return tahmin[0]

# Kullanıcıdan haber metni girişi alınması
haber_metni = input("Lütfen bir haber metni girin: ")

# Modelin tahmin yapması
tahmin_kategori = kategori_tahmini(haber_metni)
print(f"Girilen haberin kategorisi tahmini: {tahmin_kategori}")
